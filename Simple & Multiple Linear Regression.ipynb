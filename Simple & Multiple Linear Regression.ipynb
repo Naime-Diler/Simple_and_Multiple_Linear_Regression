{
 "cells": [
  {
   "cell_type": "markdown",
   "id": "3a16c5a4",
   "metadata": {
    "ExecuteTime": {
     "end_time": "2024-03-18T08:07:31.655172400Z",
     "start_time": "2024-03-18T08:07:31.639246800Z"
    },
    "collapsed": true
   },
   "source": [
    "# Sales Prediction with Linear Regression"
   ]
  },
  {
   "cell_type": "markdown",
   "id": "8cd3fa3f",
   "metadata": {},
   "source": [
    "In diesem Projekt wird ein Verkaufsprognosemodell entwickelt, um den Zusammenhang zwischen den Werbeausgaben in verschiedenen \n",
    "Kanälen und dem erzielten Umsatz zu untersuchen. Dabei wird zunächst eine einfache lineare Regression angewendet, gefolgt von \n",
    "der Erstellung eines umfassenderen Modells, das alle fünf Variablen im Datensatz berücksichtigt."
   ]
  },
  {
   "cell_type": "code",
   "execution_count": 1,
   "id": "4acce321646f053f",
   "metadata": {
    "ExecuteTime": {
     "end_time": "2024-03-18T09:34:54.815423400Z",
     "start_time": "2024-03-18T09:34:54.380601400Z"
    }
   },
   "outputs": [],
   "source": [
    "import numpy as np\n",
    "import pandas as pd\n",
    "import matplotlib.pyplot as plt\n",
    "import seaborn as sns\n",
    "import warnings\n",
    "warnings.simplefilter(action=\"ignore\")\n",
    "\n",
    "pd.set_option('display.float_format', lambda x: '%.2f' % x)\n",
    "\n",
    "from sklearn.linear_model import LinearRegression\n",
    "from sklearn.metrics import mean_squared_error, mean_absolute_error\n",
    "from sklearn.model_selection import train_test_split, cross_val_score"
   ]
  },
  {
   "cell_type": "markdown",
   "id": "a59d7081",
   "metadata": {},
   "source": [
    "Einfache lineare Regression mit OLS unter Verwendung von Scikit-Learn"
   ]
  },
  {
   "cell_type": "markdown",
   "id": "e5a69bce",
   "metadata": {},
   "source": [
    "### Bemerkung:  \n",
    "\n",
    "Die LinearRegression()-Funktion von scikit-learn verwendet standardmäßig die Methode der gewöhnlichen kleinsten Quadrate (OLS) \n",
    "zur Schätzung der Regressionskoeffizienten und zur Vorhersage."
   ]
  },
  {
   "cell_type": "code",
   "execution_count": 2,
   "id": "9d66cf57838ae539",
   "metadata": {
    "ExecuteTime": {
     "end_time": "2024-03-18T09:35:00.377456800Z",
     "start_time": "2024-03-18T09:35:00.257663200Z"
    }
   },
   "outputs": [],
   "source": [
    "df = pd.read_csv(r\"C:\\Users\\Naime Diler\\Desktop\\PycharmProjects\\datasets/advertising.csv\")"
   ]
  },
  {
   "cell_type": "markdown",
   "id": "8d973817",
   "metadata": {
    "ExecuteTime": {
     "end_time": "2024-03-18T08:07:32.567683300Z",
     "start_time": "2024-03-18T08:07:32.554849300Z"
    }
   },
   "source": [
    "### Datensatz:\n",
    "\n",
    "Die Daten geben Auskunft über die Verkäufe in Relation zu den Ausgaben für Fernsehen, Radio und Zeitung. Zum Beispiel ergibt \n",
    "sich bei Ausgaben von 230,10 Einheiten für Fernsehen, 37,80 Einheiten für Radio und 69,20 Einheiten für Zeitung ein Verkauf von \n",
    "22,10 Einheiten."
   ]
  },
  {
   "cell_type": "markdown",
   "id": "9a58d94f",
   "metadata": {
    "ExecuteTime": {
     "end_time": "2024-03-18T09:35:03.163780700Z",
     "start_time": "2024-03-18T09:35:03.073609200Z"
    }
   },
   "source": [
    "df.head()"
   ]
  },
  {
   "cell_type": "code",
   "execution_count": 3,
   "id": "adeeda87db067c7b",
   "metadata": {
    "ExecuteTime": {
     "end_time": "2024-03-18T09:35:04.761773500Z",
     "start_time": "2024-03-18T09:35:04.696651800Z"
    }
   },
   "outputs": [
    {
     "data": {
      "text/plain": [
       "(200, 4)"
      ]
     },
     "execution_count": 3,
     "metadata": {},
     "output_type": "execute_result"
    }
   ],
   "source": [
    "df.shape"
   ]
  },
  {
   "cell_type": "markdown",
   "id": "584d31aa",
   "metadata": {
    "ExecuteTime": {
     "end_time": "2024-03-18T08:07:32.672120500Z",
     "start_time": "2024-03-18T08:07:32.628549800Z"
    }
   },
   "source": [
    "Um das grundlegende Konzept der Regression zu verdeutlichen und zu verstehen, werden in diesem Beispiel zwei Variablen aus\n",
    "diesem DataFrame ausgewählt und damit fortgefahren."
   ]
  },
  {
   "cell_type": "code",
   "execution_count": 4,
   "id": "7129eb71988bbee3",
   "metadata": {
    "ExecuteTime": {
     "end_time": "2024-03-18T09:35:07.982364200Z",
     "start_time": "2024-03-18T09:35:07.890622900Z"
    }
   },
   "outputs": [],
   "source": [
    "X = df[[\"TV\"]]\n",
    "y = df[[\"sales\"]]"
   ]
  },
  {
   "cell_type": "markdown",
   "id": "78fe728c",
   "metadata": {
    "ExecuteTime": {
     "end_time": "2024-03-18T08:07:32.813396900Z",
     "start_time": "2024-03-18T08:07:32.675777400Z"
    }
   },
   "source": [
    "Zuerst wird die angenommene lineare Beziehung zwischen diesen beiden Variablen modelliert und anschließend wird die \n",
    "Modellgleichung mithilfe eines Diagramms bewertet."
   ]
  },
  {
   "cell_type": "markdown",
   "id": "d0694e01",
   "metadata": {
    "ExecuteTime": {
     "end_time": "2024-03-18T08:07:32.814482800Z",
     "start_time": "2024-03-18T08:07:32.701301500Z"
    }
   },
   "source": [
    "# Modell"
   ]
  },
  {
   "cell_type": "code",
   "execution_count": 6,
   "id": "4b7272dc539b5477",
   "metadata": {
    "ExecuteTime": {
     "end_time": "2024-03-18T09:35:11.931051Z",
     "start_time": "2024-03-18T09:35:11.858842800Z"
    }
   },
   "outputs": [],
   "source": [
    "reg_model = LinearRegression().fit(X, y)"
   ]
  },
  {
   "cell_type": "markdown",
   "id": "51bb78e1",
   "metadata": {
    "ExecuteTime": {
     "end_time": "2024-03-18T08:07:33.111783Z",
     "start_time": "2024-03-18T08:07:32.834341200Z"
    }
   },
   "source": [
    "### Die Gleichung der Regressionsgeraden\n",
    "\n",
    "Die Gleichung y_pred = b + wx ist die grundlegende Form einer linearen Funktion und wird in der linearen Regression als die \n",
    "Gleichung der Regressionsgeraden verwendet. In dieser Gleichung repräsentiert y_pred die vorhergesagten Werte der abhängigen \n",
    "Variable, x die unabhängige Variable, w die Steigung der Regressionsgeraden und b den y-Achsenabschnitt (Intercept)."
   ]
  },
  {
   "cell_type": "code",
   "execution_count": 7,
   "id": "1729a0be05bebd4d",
   "metadata": {
    "ExecuteTime": {
     "end_time": "2024-03-18T09:35:14.397617Z",
     "start_time": "2024-03-18T09:35:14.350588800Z"
    }
   },
   "outputs": [
    {
     "data": {
      "text/plain": [
       "7.032593549127693"
      ]
     },
     "execution_count": 7,
     "metadata": {},
     "output_type": "execute_result"
    }
   ],
   "source": [
    "# b = Konstante (bias, intercept)\n",
    "\n",
    "reg_model.intercept_[0]"
   ]
  },
  {
   "cell_type": "code",
   "execution_count": 8,
   "id": "aad9dbc6459eb70b",
   "metadata": {
    "ExecuteTime": {
     "end_time": "2024-03-18T09:35:15.769138800Z",
     "start_time": "2024-03-18T09:35:15.688833200Z"
    }
   },
   "outputs": [
    {
     "data": {
      "text/plain": [
       "0.047536640433019764"
      ]
     },
     "execution_count": 8,
     "metadata": {},
     "output_type": "execute_result"
    }
   ],
   "source": [
    "# w = Koeffizient (Steigung)\n",
    "\n",
    "reg_model.coef_[0][0]"
   ]
  },
  {
   "cell_type": "markdown",
   "id": "d0204c75",
   "metadata": {
    "ExecuteTime": {
     "end_time": "2024-03-18T08:07:33.191348600Z",
     "start_time": "2024-03-18T08:07:32.879352500Z"
    }
   },
   "source": [
    "# Prognose"
   ]
  },
  {
   "cell_type": "markdown",
   "id": "b872cf4b",
   "metadata": {
    "ExecuteTime": {
     "end_time": "2024-03-18T08:07:33.206121600Z",
     "start_time": "2024-03-18T08:07:32.895033Z"
    }
   },
   "source": [
    "manuelle Berechnung der Vorhersage basierend auf den Regressionskoeffizienten des Modells und einem festgelegten Wert für die\n",
    "unabhängige Variable:"
   ]
  },
  {
   "cell_type": "markdown",
   "id": "a763769a",
   "metadata": {
    "ExecuteTime": {
     "end_time": "2024-03-18T08:07:33.207144800Z",
     "start_time": "2024-03-18T08:07:32.907692200Z"
    }
   },
   "source": [
    "Welcher Umsatz wird erwartet, wenn die Ausgaben für Fernsehen 150 Einheiten betragen?"
   ]
  },
  {
   "cell_type": "code",
   "execution_count": 9,
   "id": "cfb1b8555f1d4319",
   "metadata": {
    "ExecuteTime": {
     "end_time": "2024-03-18T09:35:20.195477600Z",
     "start_time": "2024-03-18T09:35:20.159104500Z"
    }
   },
   "outputs": [
    {
     "data": {
      "text/plain": [
       "14.163089614080658"
      ]
     },
     "execution_count": 9,
     "metadata": {},
     "output_type": "execute_result"
    }
   ],
   "source": [
    "reg_model.intercept_[0] + reg_model.coef_[0][0]*150"
   ]
  },
  {
   "cell_type": "markdown",
   "id": "76afa885",
   "metadata": {
    "ExecuteTime": {
     "end_time": "2024-03-18T08:07:33.208688900Z",
     "start_time": "2024-03-18T08:07:32.939779900Z"
    }
   },
   "source": [
    "Bei einem Fernsehausgabenbetrag von 500 Einheiten, wie hoch wäre der Umsatz?"
   ]
  },
  {
   "cell_type": "code",
   "execution_count": 11,
   "id": "b083f4e4d280119a",
   "metadata": {
    "ExecuteTime": {
     "end_time": "2024-03-18T09:35:22.159351900Z",
     "start_time": "2024-03-18T09:35:22.153881300Z"
    }
   },
   "outputs": [
    {
     "data": {
      "text/plain": [
       "30.800913765637574"
      ]
     },
     "execution_count": 11,
     "metadata": {},
     "output_type": "execute_result"
    }
   ],
   "source": [
    "reg_model.intercept_[0] + reg_model.coef_[0][0]*500"
   ]
  },
  {
   "cell_type": "markdown",
   "id": "95b68b00",
   "metadata": {
    "ExecuteTime": {
     "end_time": "2024-03-18T08:07:33.285900600Z",
     "start_time": "2024-03-18T08:07:32.972793200Z"
    }
   },
   "source": [
    "# Visualisierung des Modells"
   ]
  },
  {
   "cell_type": "code",
   "execution_count": 12,
   "id": "239e15e6564aeff6",
   "metadata": {
    "ExecuteTime": {
     "end_time": "2024-03-18T09:35:24.529093300Z",
     "start_time": "2024-03-18T09:35:24.097895400Z"
    }
   },
   "outputs": [
    {
     "data": {
      "image/png": "[encoded data removed]",
      "text/plain": [
       "<Figure size 640x480 with 1 Axes>"
      ]
     },
     "metadata": {},
     "output_type": "display_data"
    }
   ],
   "source": [
    "# ohne Konfidenzintervall:\n",
    "\n",
    "g = sns.regplot(x=X, y=y, scatter_kws={'color': 'b', 's': 9},\n",
    "                ci=False, color=\"r\")\n",
    "\n",
    "g.set_title(f\"Modellgleichung: Sales = {round(reg_model.intercept_[0], 2)} + TV*{round(reg_model.coef_[0][0], 2)}\")\n",
    "g.set_ylabel(\"Verkaufszahlen\")\n",
    "g.set_xlabel(\"Fernsehausgaben\")\n",
    "plt.xlim(-10, 310)\n",
    "plt.ylim(bottom=0)\n",
    "plt.show()"
   ]
  },
  {
   "cell_type": "markdown",
   "id": "b27180f2",
   "metadata": {
    "ExecuteTime": {
     "end_time": "2024-03-18T08:07:33.870370100Z",
     "start_time": "2024-03-18T08:07:33.827174100Z"
    }
   },
   "source": [
    "oder: "
   ]
  },
  {
   "cell_type": "code",
   "execution_count": 13,
   "id": "b230152b70717e4f",
   "metadata": {
    "ExecuteTime": {
     "end_time": "2024-03-18T09:35:27.931448800Z",
     "start_time": "2024-03-18T09:35:27.541534200Z"
    }
   },
   "outputs": [
    {
     "data": {
      "image/png": "[encoded data removed]",
      "text/plain": [
       "<Figure size 640x480 with 1 Axes>"
      ]
     },
     "metadata": {},
     "output_type": "display_data"
    }
   ],
   "source": [
    "# Das Konfidenzintervall ist auf 68 eingestellt, was bedeutet, dass ein Intervall mit einer Breite von 68% um die \n",
    "# Regressionsgerade herum angezeigt wird. Diese Darstellung zeigt neben der Regressionslinie auch die Vertrauensintervalle \n",
    "# für die Regressionskoeffizienten an. Mit 68%iger Sicherheit kann man sagen, dass die wahre Regressionslinie innerhalb dieses \n",
    "# Intervalls liegt. \n",
    "\n",
    "g = sns.regplot(x=X, y=y, scatter_kws={'color': 'b', 's': 9},\n",
    "                ci=68, color=\"r\")\n",
    "\n",
    "g.set_title(f\"Modellgleichung: Sales = {round(reg_model.intercept_[0], 2)} + TV*{round(reg_model.coef_[0][0], 2)}\")\n",
    "g.set_ylabel(\"Verkaufszahlen\")\n",
    "g.set_xlabel(\"Fernsehausgaben\")\n",
    "plt.xlim(-10, 310)\n",
    "plt.ylim(bottom=0)\n",
    "plt.show()"
   ]
  },
  {
   "cell_type": "markdown",
   "id": "acd11889",
   "metadata": {
    "ExecuteTime": {
     "end_time": "2024-03-18T08:07:34.790627100Z",
     "start_time": "2024-03-18T08:07:34.608253100Z"
    }
   },
   "source": [
    "# Prognosegenauigkeit (Evaluierung)"
   ]
  },
  {
   "cell_type": "markdown",
   "id": "6337b5de",
   "metadata": {
    "ExecuteTime": {
     "end_time": "2024-03-18T08:07:34.793735700Z",
     "start_time": "2024-03-18T08:07:34.623428100Z"
    }
   },
   "source": [
    "Verwendung der predict-Methode des trainierten Regressionsmodells, um Vorhersagen automatisch für eine Matrix von Eingabedaten \n",
    "X zu generieren:"
   ]
  },
  {
   "cell_type": "code",
   "execution_count": 14,
   "id": "caf784b7c09043b5",
   "metadata": {
    "ExecuteTime": {
     "end_time": "2024-03-18T09:35:32.057942500Z",
     "start_time": "2024-03-18T09:35:32.026330900Z"
    }
   },
   "outputs": [],
   "source": [
    "y_pred = reg_model.predict(X)"
   ]
  },
  {
   "cell_type": "code",
   "execution_count": 15,
   "id": "2bdead39118fd769",
   "metadata": {
    "ExecuteTime": {
     "end_time": "2024-03-18T09:35:33.251289300Z",
     "start_time": "2024-03-18T09:35:33.182924Z"
    }
   },
   "outputs": [
    {
     "data": {
      "text/plain": [
       "10.512652915656757"
      ]
     },
     "execution_count": 15,
     "metadata": {},
     "output_type": "execute_result"
    }
   ],
   "source": [
    "# MSE:\n",
    "\n",
    "mean_squared_error(y, y_pred) "
   ]
  },
  {
   "cell_type": "markdown",
   "id": "740beb9c",
   "metadata": {
    "ExecuteTime": {
     "end_time": "2024-03-18T08:07:34.831522600Z",
     "start_time": "2024-03-18T08:07:34.682876Z"
    }
   },
   "source": [
    "Ein MSE-Wert von 10 bedeutet, dass die durchschnittliche quadratische Abweichung zwischen den beobachteten (tatsächlichen) und den vorhergesagten Werten 10 Einheiten beträgt. Dies ist aber nur eine hypothetische Interpretation und nicht bedeutet, dass jeder einzelne vorhergesagte Wert 10 Einheiten von den tatsächlichen Werten abweichen wird. "
   ]
  },
  {
   "cell_type": "code",
   "execution_count": 16,
   "id": "aed945bde97efe3b",
   "metadata": {
    "ExecuteTime": {
     "end_time": "2024-03-18T09:35:35.371777700Z",
     "start_time": "2024-03-18T09:35:35.351300600Z"
    }
   },
   "outputs": [
    {
     "data": {
      "text/plain": [
       "sales   14.02\n",
       "dtype: float64"
      ]
     },
     "execution_count": 16,
     "metadata": {},
     "output_type": "execute_result"
    }
   ],
   "source": [
    "y.mean()"
   ]
  },
  {
   "cell_type": "code",
   "execution_count": 17,
   "id": "cff1530090c3d513",
   "metadata": {
    "ExecuteTime": {
     "end_time": "2024-03-18T09:35:36.620327100Z",
     "start_time": "2024-03-18T09:35:36.511709100Z"
    }
   },
   "outputs": [
    {
     "data": {
      "text/plain": [
       "sales   5.22\n",
       "dtype: float64"
      ]
     },
     "execution_count": 17,
     "metadata": {},
     "output_type": "execute_result"
    }
   ],
   "source": [
    "y.std()"
   ]
  },
  {
   "cell_type": "markdown",
   "id": "5e94c3aa",
   "metadata": {
    "ExecuteTime": {
     "end_time": "2024-03-18T08:07:34.846269300Z",
     "start_time": "2024-03-18T08:07:34.732712500Z"
    }
   },
   "source": [
    "Die Verwendung der Standardabweichung der tatsächlichen Beobachtungen (y.std()) kann helfen, den MSE besser einzuschätzen, \n",
    "indem sie uns einen Maßstab dafür liefert, wie groß die Fehler im Vergleich zur Variation der tatsächlichen Werte sind.\n",
    "Ebenso kann der Mittelwert (y.mean()) der tatsächlichen Beobachtungen dazu beitragen, den MSE in einen Kontext zu setzen und \n",
    "das Ausmaß der durchschnittlichen Fehler im Verhältnis zu den durchschnittlichen tatsächlichen Werten zu verstehen.\n",
    "\n",
    "In dieser Situation könnte der erzielte Wert von 10 als etwas größer betrachtet werden. Eine angemessenere Schwelle wäre ein \n",
    "durchschnittlicher Fehler von etwa 1,5 bis 2. Auch wenn ein kleinerer Fehler bevorzugt wird, ist die Beurteilung seiner Größe \n",
    "oft unklar. Dabei wird der Durchschnitt und die Standardabweichung der abhängigen Variablen betrachtet. Wenn der Durchschnitt \n",
    "der Verkäufe bereits 14 Einheiten beträgt und der durchschnittliche Fehler bei 10 Einheiten liegt, ist die Vorhersage eher als \n",
    "hoch und potenziell problematisch zu bewerten."
   ]
  },
  {
   "cell_type": "code",
   "execution_count": 18,
   "id": "add05a7beed56aa3",
   "metadata": {
    "ExecuteTime": {
     "end_time": "2024-03-18T09:35:39.509189900Z",
     "start_time": "2024-03-18T09:35:39.471352400Z"
    }
   },
   "outputs": [
    {
     "data": {
      "text/plain": [
       "3.2423221486546887"
      ]
     },
     "execution_count": 18,
     "metadata": {},
     "output_type": "execute_result"
    }
   ],
   "source": [
    "# RMSE\n",
    "\n",
    "np.sqrt(mean_squared_error(y, y_pred))"
   ]
  },
  {
   "cell_type": "code",
   "execution_count": 19,
   "id": "eda0d90bf4e51c1f",
   "metadata": {
    "ExecuteTime": {
     "end_time": "2024-03-18T09:35:40.618778700Z",
     "start_time": "2024-03-18T09:35:40.592264100Z"
    }
   },
   "outputs": [
    {
     "data": {
      "text/plain": [
       "2.549806038927486"
      ]
     },
     "execution_count": 19,
     "metadata": {},
     "output_type": "execute_result"
    }
   ],
   "source": [
    "# MAE\n",
    "\n",
    "mean_absolute_error(y, y_pred)"
   ]
  },
  {
   "cell_type": "code",
   "execution_count": 20,
   "id": "67d97c4a4ba9c372",
   "metadata": {
    "ExecuteTime": {
     "end_time": "2024-03-18T09:35:41.816385500Z",
     "start_time": "2024-03-18T09:35:41.777434800Z"
    }
   },
   "outputs": [
    {
     "data": {
      "text/plain": [
       "0.611875050850071"
      ]
     },
     "execution_count": 20,
     "metadata": {},
     "output_type": "execute_result"
    }
   ],
   "source": [
    "# R² (Determinationskoeffizient)\n",
    "\n",
    "reg_model.score(X, y)"
   ]
  },
  {
   "cell_type": "markdown",
   "id": "5a515987",
   "metadata": {},
   "source": [
    "# Multiple Linear Regression"
   ]
  },
  {
   "cell_type": "code",
   "execution_count": 21,
   "id": "aac46bf17cf173ca",
   "metadata": {
    "ExecuteTime": {
     "end_time": "2024-03-18T09:35:43.573102500Z",
     "start_time": "2024-03-18T09:35:43.536518400Z"
    }
   },
   "outputs": [],
   "source": [
    "df = pd.read_csv(r\"C:\\Users\\Naime Diler\\Desktop\\PycharmProjects\\datasets/advertising.csv\")"
   ]
  },
  {
   "cell_type": "code",
   "execution_count": 22,
   "id": "f5a0eb6c009f3d28",
   "metadata": {
    "ExecuteTime": {
     "end_time": "2024-03-18T09:35:44.583663800Z",
     "start_time": "2024-03-18T09:35:44.550241700Z"
    }
   },
   "outputs": [],
   "source": [
    "X = df.drop('sales', axis=1)\n",
    "y = df[[\"sales\"]]"
   ]
  },
  {
   "cell_type": "markdown",
   "id": "dc928d53",
   "metadata": {},
   "source": [
    "# Modell"
   ]
  },
  {
   "cell_type": "code",
   "execution_count": 23,
   "id": "944f1d2eaada7343",
   "metadata": {
    "ExecuteTime": {
     "end_time": "2024-03-18T09:35:46.377770700Z",
     "start_time": "2024-03-18T09:35:46.341913300Z"
    }
   },
   "outputs": [],
   "source": [
    "X_train, X_test, y_train, y_test = train_test_split(X, y, test_size=0.20, random_state=1)\n",
    "\n",
    "reg_model = LinearRegression().fit(X_train, y_train)"
   ]
  },
  {
   "cell_type": "code",
   "execution_count": 24,
   "id": "6bd0fc1f0fba3377",
   "metadata": {
    "ExecuteTime": {
     "end_time": "2024-03-18T09:35:47.164753700Z",
     "start_time": "2024-03-18T09:35:47.133559400Z"
    }
   },
   "outputs": [
    {
     "data": {
      "text/plain": [
       "array([2.90794702])"
      ]
     },
     "execution_count": 24,
     "metadata": {},
     "output_type": "execute_result"
    }
   ],
   "source": [
    "# Konstante (b - bias)\n",
    "\n",
    "reg_model.intercept_"
   ]
  },
  {
   "cell_type": "code",
   "execution_count": 25,
   "id": "5dff615bd6a67a65",
   "metadata": {
    "ExecuteTime": {
     "end_time": "2024-03-18T09:35:48.204990800Z",
     "start_time": "2024-03-18T09:35:48.160907300Z"
    }
   },
   "outputs": [
    {
     "data": {
      "text/plain": [
       "array([[0.0468431 , 0.17854434, 0.00258619]])"
      ]
     },
     "execution_count": 25,
     "metadata": {},
     "output_type": "execute_result"
    }
   ],
   "source": [
    "# Koeffizient (w - weights)\n",
    "\n",
    "reg_model.coef_"
   ]
  },
  {
   "cell_type": "markdown",
   "id": "528cf6b7",
   "metadata": {},
   "source": [
    "# Prognose"
   ]
  },
  {
   "cell_type": "markdown",
   "id": "55c2cc53",
   "metadata": {},
   "source": [
    "Basierend auf den folgenden Beobachtungswerten, wie hoch ist der erwartete Verkaufswert?\n",
    "\n",
    "TV: 30\n",
    "radio: 10\n",
    "newspaper: 40\n",
    "\n",
    "b = 2.90\n",
    "0.0468431 =w1 , 0.17854434 =w2, 0.00258619 = w3\n",
    "\n",
    "Sales = 2.90  + TV * 0.04 + radio * 0.17 + newspaper * 0.002"
   ]
  },
  {
   "cell_type": "code",
   "execution_count": 26,
   "id": "881d31d94bec32c1",
   "metadata": {
    "ExecuteTime": {
     "end_time": "2024-03-18T09:35:51.393197500Z",
     "start_time": "2024-03-18T09:35:51.361756200Z"
    }
   },
   "outputs": [
    {
     "data": {
      "text/plain": [
       "6.20213102"
      ]
     },
     "execution_count": 26,
     "metadata": {},
     "output_type": "execute_result"
    }
   ],
   "source": [
    "2.90794702 + 30 * 0.0468431 + 10 * 0.17854434 + 40 * 0.00258619"
   ]
  },
  {
   "cell_type": "code",
   "execution_count": 27,
   "id": "38997b5f92404c53",
   "metadata": {
    "ExecuteTime": {
     "end_time": "2024-03-18T09:35:52.643648500Z",
     "start_time": "2024-03-18T09:35:52.600673Z"
    }
   },
   "outputs": [
    {
     "data": {
      "text/plain": [
       "array([[6.202131]])"
      ]
     },
     "execution_count": 27,
     "metadata": {},
     "output_type": "execute_result"
    }
   ],
   "source": [
    "neue_Daten = [[30], [10], [40]]\n",
    "neue_Daten = pd.DataFrame(neue_Daten).T\n",
    "\n",
    "reg_model.predict(neue_Daten)"
   ]
  },
  {
   "cell_type": "markdown",
   "id": "7ed5ce1bf8a9ec95",
   "metadata": {},
   "source": [
    "# Prognosegenauigkeit (Evaluierung)"
   ]
  },
  {
   "cell_type": "code",
   "execution_count": 28,
   "id": "34075ed71bab27db",
   "metadata": {
    "ExecuteTime": {
     "end_time": "2024-03-18T09:35:55.246822500Z",
     "start_time": "2024-03-18T09:35:55.232480600Z"
    }
   },
   "outputs": [],
   "source": [
    "y_pred = reg_model.predict(X_train)"
   ]
  },
  {
   "cell_type": "code",
   "execution_count": 29,
   "id": "8d1045bf79ee45f9",
   "metadata": {
    "ExecuteTime": {
     "end_time": "2024-03-18T09:35:56.488499100Z",
     "start_time": "2024-03-18T09:35:56.424977200Z"
    }
   },
   "outputs": [
    {
     "data": {
      "text/plain": [
       "1.7369025901470923"
      ]
     },
     "execution_count": 29,
     "metadata": {},
     "output_type": "execute_result"
    }
   ],
   "source": [
    "# Train RMSE\n",
    "\n",
    "np.sqrt(mean_squared_error(y_train, y_pred))"
   ]
  },
  {
   "cell_type": "code",
   "execution_count": 30,
   "id": "19fbccfd70bd5822",
   "metadata": {
    "ExecuteTime": {
     "end_time": "2024-03-18T09:35:57.512478500Z",
     "start_time": "2024-03-18T09:35:57.480065400Z"
    }
   },
   "outputs": [
    {
     "data": {
      "text/plain": [
       "0.8959372632325174"
      ]
     },
     "execution_count": 30,
     "metadata": {},
     "output_type": "execute_result"
    }
   ],
   "source": [
    "# TRAIN R²\n",
    "\n",
    "reg_model.score(X_train, y_train)"
   ]
  },
  {
   "cell_type": "code",
   "execution_count": 31,
   "id": "8d828798663597f",
   "metadata": {
    "ExecuteTime": {
     "end_time": "2024-03-18T09:35:58.570310800Z",
     "start_time": "2024-03-18T09:35:58.525440800Z"
    }
   },
   "outputs": [],
   "source": [
    "y_pred = reg_model.predict(X_test)"
   ]
  },
  {
   "cell_type": "code",
   "execution_count": 32,
   "id": "91b4306ef99aea4e",
   "metadata": {
    "ExecuteTime": {
     "end_time": "2024-03-18T09:35:59.462628200Z",
     "start_time": "2024-03-18T09:35:59.414218500Z"
    }
   },
   "outputs": [
    {
     "data": {
      "text/plain": [
       "1.4113417558581587"
      ]
     },
     "execution_count": 32,
     "metadata": {},
     "output_type": "execute_result"
    }
   ],
   "source": [
    "# Test RMSE\n",
    "\n",
    "np.sqrt(mean_squared_error(y_test, y_pred))"
   ]
  },
  {
   "cell_type": "code",
   "execution_count": 33,
   "id": "fd874733dae10dac",
   "metadata": {
    "ExecuteTime": {
     "end_time": "2024-03-18T09:36:00.350650800Z",
     "start_time": "2024-03-18T09:36:00.297360500Z"
    }
   },
   "outputs": [
    {
     "data": {
      "text/plain": [
       "0.8927605914615384"
      ]
     },
     "execution_count": 33,
     "metadata": {},
     "output_type": "execute_result"
    }
   ],
   "source": [
    "# Test R²\n",
    "\n",
    "reg_model.score(X_test, y_test)"
   ]
  },
  {
   "cell_type": "code",
   "execution_count": null,
   "id": "72bd515faca420b9",
   "metadata": {
    "ExecuteTime": {
     "end_time": "2024-03-18T09:36:01.207904900Z",
     "start_time": "2024-03-18T09:36:01.122202500Z"
    }
   },
   "outputs": [],
   "source": [
    "# 10-fache Kreuzvalidierung RMSE\n",
    "\n",
    "np.mean(np.sqrt(-cross_val_score(reg_model,\n",
    "                                 X,\n",
    "                                 y,\n",
    "                                 cv=10, \n",
    "                                 scoring=\"neg_mean_squared_error\")))"
   ]
  },
  {
   "cell_type": "code",
   "execution_count": null,
   "id": "1f318ab11aa30494",
   "metadata": {
    "ExecuteTime": {
     "end_time": "2024-03-18T09:36:02.220755Z",
     "start_time": "2024-03-18T09:36:02.159239200Z"
    }
   },
   "outputs": [],
   "source": [
    "# 5-fache Kreuzvalidierung RMSE\n",
    "\n",
    "np.mean(np.sqrt(-cross_val_score(reg_model,\n",
    "                                 X,\n",
    "                                 y,\n",
    "                                 cv=5,\n",
    "                                 scoring=\"neg_mean_squared_error\")))"
   ]
  },
  {
   "cell_type": "code",
   "execution_count": null,
   "id": "bc45eb621be9d069",
   "metadata": {
    "ExecuteTime": {
     "end_time": "2024-03-18T09:36:03.506479400Z",
     "start_time": "2024-03-18T09:36:03.295099900Z"
    }
   },
   "outputs": [],
   "source": [
    "# Kreuzvalidierung, ohne vorherige Aufteilung des Datensatzes in Trainings- und Testsets\n",
    "\n",
    "X = df.drop('sales', axis=1)  \n",
    "y = df[[\"sales\"]]             \n",
    "\n",
    "reg_model = LinearRegression()\n",
    "\n",
    "# Kreuzvalidierung und Bewertung\n",
    "negative_mean_squared_errors = cross_val_score(reg_model, X, y, cv=10, scoring=\"neg_mean_squared_error\")\n",
    "root_mean_squared_errors = np.sqrt(-negative_mean_squared_errors)\n",
    "mean_rmse = root_mean_squared_errors.mean()\n",
    "\n",
    "\n",
    "print(\"Durchschnittlicher RMSE über 10-Fold Cross-Validation:\", mean_rmse)"
   ]
  }
 ],
 "metadata": {
  "kernelspec": {
   "display_name": "Python 3 (ipykernel)",
   "language": "python",
   "name": "python3"
  },
  "language_info": {
   "codemirror_mode": {
    "name": "ipython",
    "version": 3
   },
   "file_extension": ".py",
   "mimetype": "text/x-python",
   "name": "python",
   "nbconvert_exporter": "python",
   "pygments_lexer": "ipython3",
   "version": "3.10.13"
  }
 },
 "nbformat": 4,
 "nbformat_minor": 5
}
